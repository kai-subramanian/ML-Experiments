{
 "cells": [
  {
   "cell_type": "markdown",
   "metadata": {},
   "source": [
    "## **Lab 1 - Numpy and Pandas**\n",
    "### S Kailash 18MIS1074 \n",
    "### SWE4012 Machine Learning (L11+L12)\n",
    "### Faculty : Dr. M Premlatha\n",
    "### Date : 11th January 2022"
   ]
  },
  {
   "cell_type": "markdown",
   "metadata": {},
   "source": [
    "#### In this lab session, we will be exploring the usage of Numpy and Pandas library. Let us first import them."
   ]
  },
  {
   "cell_type": "code",
   "execution_count": 2,
   "metadata": {},
   "outputs": [],
   "source": [
    "import numpy as np\n",
    "import pandas as pd"
   ]
  },
  {
   "cell_type": "markdown",
   "metadata": {},
   "source": [
    "We create two arrays for use, arr1 and arr2"
   ]
  },
  {
   "cell_type": "code",
   "execution_count": 11,
   "metadata": {},
   "outputs": [
    {
     "name": "stdout",
     "output_type": "stream",
     "text": [
      "1D array:  [10 20 30 40 50 60]\n",
      "2D array 3*3:  \n",
      " [[10 20 30]\n",
      " [40 50 60]\n",
      " [70 80 90]]\n"
     ]
    }
   ],
   "source": [
    "arr1 = np.array([10,20,30,40,50,60])\n",
    "print(\"1D array: \", arr1)\n",
    "arr2 = np.array([[10,20,30],[40,50,60],[70,80,90]])\n",
    "print(\"2D array 3*3: \", \"\\n\",arr2)"
   ]
  },
  {
   "cell_type": "markdown",
   "metadata": {},
   "source": [
    "In this section, we explore the attributes of the arrays."
   ]
  },
  {
   "cell_type": "code",
   "execution_count": 12,
   "metadata": {},
   "outputs": [
    {
     "name": "stdout",
     "output_type": "stream",
     "text": [
      "About arr2:\n",
      "Type\t\t: <class 'numpy.ndarray'>\n",
      "Datatype\t: int32\n",
      "Shape\t\t: (3, 3)\n",
      "Size\t\t: 9\n",
      "itemsize\t: 4\n",
      "No. of dim\t: 2\n",
      "No. of bytes\t: 36\n"
     ]
    }
   ],
   "source": [
    "print(\"About arr2:\")\n",
    "print(\"Type\\t\\t:\" ,type(arr2))\n",
    "print(\"Datatype\\t:\",arr2.dtype)\n",
    "print(\"Shape\\t\\t:\", arr2.shape)\n",
    "print(\"Size\\t\\t:\",arr2.size)\n",
    "print(\"itemsize\\t:\",arr2.itemsize)\n",
    "print(\"No. of dim\\t:\",arr2.ndim)\n",
    "print(\"No. of bytes\\t:\", arr2.nbytes)"
   ]
  },
  {
   "cell_type": "code",
   "execution_count": 13,
   "metadata": {},
   "outputs": [
    {
     "name": "stdout",
     "output_type": "stream",
     "text": [
      "Zero Array \t:\n",
      " [[0 0]\n",
      " [0 0]\n",
      " [0 0]\n",
      " [0 0]\n",
      " [0 0]]\n",
      "Arrays with unit values\t:\n",
      " [[1. 1. 1. 1.]\n",
      " [1. 1. 1. 1.]\n",
      " [1. 1. 1. 1.]]\n",
      "Identity matrix\t:\n",
      " [[1. 0. 0.]\n",
      " [0. 1. 0.]\n",
      " [0. 0. 1.]\n",
      " [0. 0. 0.]]\n",
      "Random array\t\n",
      " [[0.70315442 0.63849731]\n",
      " [0.48149568 0.2320673 ]\n",
      " [0.66570186 0.8620893 ]]\n",
      "Random integer array\t:\n",
      " [[1 2 4 5 2 3]\n",
      " [4 6 2 5 6 4]]\n"
     ]
    }
   ],
   "source": [
    "arr3 = np.zeros((5,2), dtype=int)\n",
    "arr4 = np.ones((3,4),dtype=float)\n",
    "arr5 = np.eye(4,3)\n",
    "arr6 = np.random.rand(3,2)\n",
    "arr7 = np.random.randint(7,size=(2,6))\n",
    "print(\"Zero Array \\t:\\n\",arr3)\n",
    "print(\"Arrays with unit values\\t:\\n\",arr4)\n",
    "print(\"Identity matrix\\t:\\n\",arr5)\n",
    "print(\"Random array\\t\\n\",arr6)\n",
    "print(\"Random integer array\\t:\\n\" , arr7)"
   ]
  },
  {
   "cell_type": "code",
   "execution_count": 14,
   "metadata": {},
   "outputs": [
    {
     "name": "stdout",
     "output_type": "stream",
     "text": [
      "Array created with arange: \t\n",
      " [ 1  4  7 10]\n"
     ]
    }
   ],
   "source": [
    "arr8 = np.arange(1,12,3)\n",
    "print(\"Array created with arange: \\t\\n\",arr8)"
   ]
  },
  {
   "cell_type": "code",
   "execution_count": 41,
   "metadata": {},
   "outputs": [
    {
     "name": "stdout",
     "output_type": "stream",
     "text": [
      "Array created using linspace requesting 30 elements within 1 to 10:\t\n",
      " [ 1.          1.31034483  1.62068966  1.93103448  2.24137931  2.55172414\n",
      "  2.86206897  3.17241379  3.48275862  3.79310345  4.10344828  4.4137931\n",
      "  4.72413793  5.03448276  5.34482759  5.65517241  5.96551724  6.27586207\n",
      "  6.5862069   6.89655172  7.20689655  7.51724138  7.82758621  8.13793103\n",
      "  8.44827586  8.75862069  9.06896552  9.37931034  9.68965517 10.        ]\n"
     ]
    }
   ],
   "source": [
    "arr9 = np.linspace(1,10,30)\n",
    "print(\"Array created using linspace requesting 30 elements within 1 to 10:\\t\\n\",arr9)"
   ]
  },
  {
   "cell_type": "markdown",
   "metadata": {},
   "source": [
    "Accessing elements of the arrays"
   ]
  },
  {
   "cell_type": "code",
   "execution_count": 16,
   "metadata": {},
   "outputs": [
    {
     "name": "stdout",
     "output_type": "stream",
     "text": [
      "[[ 10  20  30  40  50]\n",
      " [  6   7   8   9  10]\n",
      " [110 120 130 140 150]\n",
      " [ 16  17  18  19  20]]\n",
      "Row 2: [ 6  7  8  9 10]\n",
      "Column 5: [ 50  10 150  20]\n",
      "Column 2: [ 40   9 140  19]\n",
      "Elements 7,8,12,13 :\n",
      " [[ 20  30]\n",
      " [  7   8]\n",
      " [120 130]]\n",
      "All elements: \n",
      " [[ 10  20  30  40  50]\n",
      " [  6   7   8   9  10]\n",
      " [110 120 130 140 150]\n",
      " [ 16  17  18  19  20]]\n",
      "Strides:\n",
      " [[ 20  30]\n",
      " [120 130]]\n"
     ]
    }
   ],
   "source": [
    "arr10 = np.array([[10,20,30,40,50],[6,7,8,9,10],[110,120,130,140,150],[16,17,18,19,20]])\n",
    "print(arr10)\n",
    "print(\"Row 2:\",arr10[1,:])\n",
    "print(\"Column 5:\",arr10[:,4])\n",
    "print(\"Column 2:\",arr10[:,3])\n",
    "print(\"Elements 7,8,12,13 :\\n\", arr10[0:3,1:3])\n",
    "print(\"All elements: \\n\",arr10[::])\n",
    "print(\"Strides:\\n\",arr10[0::2,1:3])"
   ]
  },
  {
   "cell_type": "markdown",
   "metadata": {},
   "source": [
    "Image mask - returns elements which match with corresponding mask value = 1"
   ]
  },
  {
   "cell_type": "code",
   "execution_count": 18,
   "metadata": {},
   "outputs": [
    {
     "name": "stdout",
     "output_type": "stream",
     "text": [
      "[2 4 5 7]\n"
     ]
    }
   ],
   "source": [
    "arr11 = np.array([1,2,3,4,5,6,7,8,9])\n",
    "mask = np.array([0,1,0,1,1,0,1,0,0],dtype=bool)\n",
    "print(arr11[mask])"
   ]
  },
  {
   "cell_type": "code",
   "execution_count": 19,
   "metadata": {},
   "outputs": [
    {
     "name": "stdout",
     "output_type": "stream",
     "text": [
      "[[1 2 3 4 5]\n",
      " [6 7 8 9 9]]\n",
      "Sum \t: 54\n",
      "Sum \t: [ 7  9 11 13 14]\n",
      "Prod \t: 3265920\n",
      "Prod \t: [ 6 14 24 36 45]\n",
      "Minimum \t: [1 2 3 4 5]\n",
      "Maximum \t: [6 7 8 9 9]\n",
      "Mean \t: [3.5 4.5 5.5 6.5 7. ]\n",
      "Variance \t: [6.25 6.25 6.25 6.25 4.  ]\n",
      "Standard Deviation \t: [2.5 2.5 2.5 2.5 2. ]\n",
      "Average \t: [3.5 4.5 5.5 6.5 7. ]\n",
      "Weighted Average \t: [3.66666667 8.33333333]\n"
     ]
    }
   ],
   "source": [
    "arr12 = np.array([[1,2,3,4,5],[6,7,8,9,9]])\n",
    "print(arr12)\n",
    "print(\"Sum \\t:\",np.sum(arr12))\n",
    "print(\"Sum \\t:\",np.sum(arr12,axis=0))\n",
    "print(\"Prod \\t:\",np.prod(arr12))\n",
    "print(\"Prod \\t:\",np.prod(arr12,axis=0))\n",
    "print(\"Minimum \\t:\",np.min(arr12,axis=0))\n",
    "print(\"Maximum \\t:\",np.max(arr12,axis=0))\n",
    "print(\"Mean \\t:\",np.mean(arr12,axis=0))\n",
    "print(\"Variance \\t:\",np.var(arr12,axis=0))\n",
    "print(\"Standard Deviation \\t:\",np.std(arr12,axis=0))\n",
    "print(\"Average \\t:\",np.average(arr12,axis=0))\n",
    "print(\"Weighted Average \\t:\",np.average(arr12,weights=[1,2,3,4,5],axis=1))"
   ]
  },
  {
   "cell_type": "markdown",
   "metadata": {},
   "source": [
    "In-built mathematical,statistical and vector operations in numpy."
   ]
  },
  {
   "cell_type": "code",
   "execution_count": 21,
   "metadata": {},
   "outputs": [
    {
     "name": "stdout",
     "output_type": "stream",
     "text": [
      "Summation:\t [5 7 9]\n",
      "Difference:\t [-3 -3 -3]\n",
      "Previous output after adding 5: [2 2 2]\n",
      "Updated array 14 [14 15 16]\n",
      "Updated array 15 [0 2 4]\n",
      "Updated array 13 [3 6 9]\n"
     ]
    }
   ],
   "source": [
    "arr13 = np.array([1,2,3])\n",
    "arr14 = np.array([4,5,6])\n",
    "arr15 = arr13+arr14\n",
    "arr16 = arr13 - arr14\n",
    "print(\"Summation:\\t\",arr15)\n",
    "print(\"Difference:\\t\",arr16)\n",
    "\n",
    "arr16+=5\n",
    "print(\"Previous output after adding 5:\",arr16)\n",
    "\n",
    "###  Try other operations\n",
    "#add 10 to all elements of arr14\n",
    "\n",
    "arr14+=10\n",
    "print(\"Updated array 14\",arr14)\n",
    "arr15-=5\n",
    "print(\"Updated array 15\",arr15)\n",
    "arr13*=3\n",
    "print(\"Updated array 13\",arr13)\n",
    "\n",
    "\n"
   ]
  },
  {
   "cell_type": "code",
   "execution_count": 38,
   "metadata": {},
   "outputs": [
    {
     "name": "stdout",
     "output_type": "stream",
     "text": [
      "[ True False]\n",
      "Array17 > Array18 ? [False  True]\n",
      "Array17 < Array18 ? [False False]\n",
      "Array18 == Array18 ? [ True  True]\n",
      "Array17 >= Array18 ? [ True  True]\n",
      "Array17 <= Array18 ? [ True False]\n"
     ]
    }
   ],
   "source": [
    "arr17=np.array([1,2])\n",
    "arr18=np.array([1,1])\n",
    "result1 = arr17 == arr18\n",
    "print(result1)\n",
    "\n",
    "### Try other relational operations <<result2 to result6\n",
    "result2 = arr17>arr18\n",
    "result3 = arr17<arr18\n",
    "result4 = arr18 == arr18\n",
    "result5 = arr17 >= arr18\n",
    "result6 = arr17 <= arr18\n",
    "\n",
    "print(\"Array17 > Array18 ?\",result2)\n",
    "print(\"Array17 < Array18 ?\",result3)\n",
    "print(\"Array18 == Array18 ?\",result4)\n",
    "print(\"Array17 >= Array18 ?\",result5)\n",
    "print(\"Array17 <= Array18 ?\",result6)\n"
   ]
  },
  {
   "cell_type": "markdown",
   "metadata": {},
   "source": [
    "Trigonometrical Operations"
   ]
  },
  {
   "cell_type": "code",
   "execution_count": 26,
   "metadata": {},
   "outputs": [
    {
     "name": "stdout",
     "output_type": "stream",
     "text": [
      "Sin values:\t [ 0.65028784 -0.98803162  0.85090352  0.89399666]\n",
      "Log value:\t [2.7080502  3.40119738 3.80666249 4.49980967]\n",
      "Cosine  [-0.75968791  0.15425145  0.52532199 -0.44807362]\n",
      "Sine inverse  [1.57079633 1.57079633]\n",
      "Tangent [-0.8559934  -6.4053312   1.61977519 -1.99520041]\n",
      "Cosine inverse [0. 0.]\n",
      "Tangent inverse  [0.78539816 0.78539816]\n"
     ]
    }
   ],
   "source": [
    "arr17 = np.array([15,30,45,90])\n",
    "result7 = np.sin(arr17)\n",
    "print(\"Sin values:\\t\",result7)\n",
    "result8 = np.log(arr17)\n",
    "print(\"Log value:\\t\",result8)\n",
    "arr171 = np.array([180,360,540,720])\n",
    "### Try other operations\n",
    "result9 = np.cos(arr17)\n",
    "result10 = np.arcsin(arr18)\n",
    "result11 = np.tan(arr17)\n",
    "result12 =  np.arccos(arr18)\n",
    "result13 = np.arctan(arr18)\n",
    "print(\"Cosine \",result9)\n",
    "print(\"Sine inverse \",result10)\n",
    "print(\"Tangent\",result11)\n",
    "print(\"Cosine inverse\",result12)\n",
    "print(\"Tangent inverse \",result13)"
   ]
  },
  {
   "cell_type": "code",
   "execution_count": 34,
   "metadata": {},
   "outputs": [
    {
     "name": "stdout",
     "output_type": "stream",
     "text": [
      "Subtract 2, [18 28 48 38]\n",
      "Multiply 3 [ 60  90 150 120]\n",
      "Divide by 4 [ 5.   7.5 12.5 10. ]\n",
      "Raise to power 5 [  3200000  24300000 312500000 102400000]\n",
      "Add a1 and a2 [ 3  7 11 15 19 23]\n",
      "Subtract a1 and a2 [-1 -1 -1 -1 -1 -1]\n",
      "Multiply a1 and a2 [  2  12  30  56  90 132]\n",
      "Divide a1 and a2 [0.5        0.75       0.83333333 0.875      0.9        0.91666667]\n",
      "Raise a1 to a2's power [          1          81       15625     5764801  -808182895 -1192716655]\n",
      "Does a1 equals a2?  False\n",
      "Sqaure root of all elements of a [4.47213595 5.47722558 7.07106781 6.32455532]\n",
      "Round off all elements of aa [10. 11. 15. 18. 20.]\n"
     ]
    }
   ],
   "source": [
    "#do the above commands\n",
    "a=np.array([20,30,50,40])\n",
    "aa = np.array([10.4,11.1,14.9,17.83,19.99])\n",
    "print(\"Subtract 2,\",np.subtract(a,2))\n",
    "print(\"Multiply 3\",np.multiply(a,3))\n",
    "print(\"Divide by 4\",np.divide(a,4))\n",
    "print(\"Raise to power 5\",np.power(a,5))\n",
    "\n",
    "a1=np.array([1,3,5,7,9,11])\n",
    "a2=np.array([2,4,6,8,10,12])\n",
    "\n",
    "print(\"Add a1 and a2\",np.add(a1,a2))\n",
    "print(\"Subtract a1 and a2\",np.subtract(a1,a2))\n",
    "print(\"Multiply a1 and a2\",np.multiply(a1,a2))\n",
    "print(\"Divide a1 and a2\",np.divide(a1,a2))\n",
    "print(\"Raise a1 to a2's power\",np.power(a1,a2))\n",
    "print(\"Does a1 equals a2? \",np.array_equal(a1,a2))\n",
    "print(\"Sqaure root of all elements of a\",np.sqrt(a))\n",
    "print(\"Round off all elements of aa\",np.round(aa))"
   ]
  },
  {
   "cell_type": "code",
   "execution_count": 35,
   "metadata": {},
   "outputs": [
    {
     "name": "stdout",
     "output_type": "stream",
     "text": [
      "Sum of all elements 140\n",
      "Minimum of a 20\n",
      "Maximum of a 50\n",
      "Variance of a  125.0\n",
      "Standard deviation of a  11.180339887498949\n",
      "Correlation coefficient of a 1.0\n"
     ]
    }
   ],
   "source": [
    "#do the above\n",
    "print(\"Sum of all elements\",np.sum(a))\n",
    "print(\"Minimum of a\",a.min())\n",
    "print(\"Maximum of a\",a.max())\n",
    "print(\"Variance of a \",np.var(a))\n",
    "print(\"Standard deviation of a \",np.std(a))\n",
    "print(\"Correlation coefficient of a\",np.corrcoef(a))"
   ]
  },
  {
   "cell_type": "code",
   "execution_count": 37,
   "metadata": {},
   "outputs": [
    {
     "name": "stdout",
     "output_type": "stream",
     "text": [
      "125\n",
      "[19 33 44 29]\n",
      "[11 34 80]\n"
     ]
    }
   ],
   "source": [
    "ar = np.array([[1,2,3,5],[7,8,9,10],[11,23,32,14]])\n",
    "sum_value = np.sum(ar)\n",
    "columnSum = np.sum(ar, axis = 0)\n",
    "rowSum = np.sum(ar, axis = 1)\n",
    "print(sum_value)\n",
    "print(columnSum)\n",
    "print(rowSum)"
   ]
  },
  {
   "cell_type": "markdown",
   "metadata": {},
   "source": [
    "We can see that sum() returns sum of all elements, along axis0 returns the sum of columns, and along axis1 returns sum of rows."
   ]
  },
  {
   "cell_type": "markdown",
   "metadata": {},
   "source": [
    "### And with that, we finish Numpy. Let us move on to Pandas."
   ]
  },
  {
   "cell_type": "markdown",
   "metadata": {},
   "source": [
    "Pandas and dataframe usage :\n",
    "\n",
    "We will be loading the famous iris dataset from GitHub and displaying the head and tail. The dataframe contains 5 columns - \n",
    " *sepal_length, sepal_width, petal_length, petal_with,species*\n",
    "of the Iris flower as classified. "
   ]
  },
  {
   "cell_type": "code",
   "execution_count": 40,
   "metadata": {},
   "outputs": [
    {
     "name": "stdout",
     "output_type": "stream",
     "text": [
      "   sepal_length  sepal_width  petal_length  petal_width species\n",
      "0           5.1          3.5           1.4          0.2  setosa\n",
      "1           4.9          3.0           1.4          0.2  setosa\n",
      "2           4.7          3.2           1.3          0.2  setosa\n",
      "3           4.6          3.1           1.5          0.2  setosa\n",
      "4           5.0          3.6           1.4          0.2  setosa\n",
      "     sepal_length  sepal_width  petal_length  petal_width    species\n",
      "145           6.7          3.0           5.2          2.3  virginica\n",
      "146           6.3          2.5           5.0          1.9  virginica\n",
      "147           6.5          3.0           5.2          2.0  virginica\n",
      "148           6.2          3.4           5.4          2.3  virginica\n",
      "149           5.9          3.0           5.1          1.8  virginica\n"
     ]
    }
   ],
   "source": [
    "iris = pd.read_csv('https://raw.githubusercontent.com/mwaskom/seaborn-data/master/iris.csv')\n",
    "print(iris.head())\n",
    "print(iris.tail())"
   ]
  }
 ],
 "metadata": {
  "interpreter": {
   "hash": "0f8b6743175fa564c0ba2fa4a52b9c613ba7ca386f4ed08e9fc56ac929070c0d"
  },
  "kernelspec": {
   "display_name": "Python 3.10.1 64-bit",
   "language": "python",
   "name": "python3"
  },
  "language_info": {
   "codemirror_mode": {
    "name": "ipython",
    "version": 3
   },
   "file_extension": ".py",
   "mimetype": "text/x-python",
   "name": "python",
   "nbconvert_exporter": "python",
   "pygments_lexer": "ipython3",
   "version": "3.10.1"
  },
  "orig_nbformat": 4
 },
 "nbformat": 4,
 "nbformat_minor": 2
}
