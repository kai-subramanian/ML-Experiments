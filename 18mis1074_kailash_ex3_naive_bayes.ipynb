{
 "cells": [
  {
   "cell_type": "markdown",
   "metadata": {},
   "source": [
    "## **Lab 3 - Naive Bayes**\n",
    "### S Kailash 18MIS1074 \n",
    "### SWE4012 Machine Learning (L11+L12)\n",
    "### Faculty : Dr. M Premlatha\n",
    "### Date : 1st February 2022"
   ]
  },
  {
   "cell_type": "code",
   "execution_count": 27,
   "metadata": {},
   "outputs": [],
   "source": [
    "import pandas as pd\n",
    "from sklearn.model_selection import train_test_split\n",
    "from sklearn.naive_bayes import CategoricalNB\n",
    "from sklearn.datasets import load_iris\n",
    "from sklearn.datasets import load_wine\n",
    "from sklearn import datasets\n",
    "from sklearn.naive_bayes import GaussianNB\n",
    "from sklearn import naive_bayes\n",
    "from sklearn.metrics import accuracy_score\n",
    "from sklearn.preprocessing import LabelEncoder, StandardScaler\n",
    "from sklearn import metrics"
   ]
  },
  {
   "cell_type": "markdown",
   "metadata": {},
   "source": [
    "Describing the dataframes"
   ]
  },
  {
   "cell_type": "code",
   "execution_count": 28,
   "metadata": {},
   "outputs": [
    {
     "name": "stdout",
     "output_type": "stream",
     "text": [
      "Shape: (150, 4)\n",
      "Features: ['sepal length (cm)', 'sepal width (cm)', 'petal length (cm)', 'petal width (cm)']\n",
      "Output: ['setosa' 'versicolor' 'virginica']\n",
      "Shape: (400, 5)\n",
      "Shape: (178, 13)\n",
      "Features: ['alcohol', 'malic_acid', 'ash', 'alcalinity_of_ash', 'magnesium', 'total_phenols', 'flavanoids', 'nonflavanoid_phenols', 'proanthocyanins', 'color_intensity', 'hue', 'od280/od315_of_diluted_wines', 'proline']\n",
      "Output: ['class_0' 'class_1' 'class_2']\n"
     ]
    }
   ],
   "source": [
    "iris=datasets.load_iris()\n",
    "df=pd.read_csv('Social_Network_Ads.csv')\n",
    "wine=datasets.load_wine()\n",
    "\n",
    "print(\"Shape:\",iris.data.shape)\n",
    "print(\"Features:\",iris.feature_names)\n",
    "print(\"Output:\",iris.target_names)\n",
    "\n",
    "print(\"Shape:\",sna.shape)\n",
    "\n",
    "print(\"Shape:\",wine.data.shape)\n",
    "print(\"Features:\",wine.feature_names)\n",
    "print(\"Output:\",wine.target_names)"
   ]
  },
  {
   "cell_type": "code",
   "execution_count": 29,
   "metadata": {},
   "outputs": [
    {
     "name": "stdout",
     "output_type": "stream",
     "text": [
      "(120, 4)\n",
      "(30,)\n"
     ]
    }
   ],
   "source": [
    "X, y = load_iris(return_X_y=True)\n",
    "X_train, X_test, y_train, y_test = train_test_split(X, y, test_size=0.2, random_state=0)\n",
    "print(X_train.shape)\n",
    "print(y_test.shape)"
   ]
  },
  {
   "cell_type": "code",
   "execution_count": 30,
   "metadata": {},
   "outputs": [
    {
     "name": "stdout",
     "output_type": "stream",
     "text": [
      "[2 1 0 2 0 2 0 1 1 1 2 1 1 1 1 0 1 1 0 0 1 1 0 0 1 0 0 1 1 0]\n"
     ]
    }
   ],
   "source": [
    "cnb1=CategoricalNB()\n",
    "cnb1.fit(X_train,y_train)\n",
    "y_predict = cnb1.predict(X_test)\n",
    "print(y_predict)"
   ]
  },
  {
   "cell_type": "code",
   "execution_count": 31,
   "metadata": {},
   "outputs": [
    {
     "name": "stdout",
     "output_type": "stream",
     "text": [
      "Accucary: 0.9333333333333333\n",
      "Confusion Matrix\n",
      " [[11  0  0]\n",
      " [ 0 13  0]\n",
      " [ 0  2  4]]\n"
     ]
    }
   ],
   "source": [
    "print('Accucary:', metrics.accuracy_score(y_test, y_predict))\n",
    "print('Confusion Matrix\\n',metrics.confusion_matrix(y_test, y_predict))\n"
   ]
  },
  {
   "cell_type": "markdown",
   "metadata": {},
   "source": [
    "### Here, we will be doing preprocessing and label encoding for the social network advertising dataset."
   ]
  },
  {
   "cell_type": "code",
   "execution_count": 32,
   "metadata": {},
   "outputs": [],
   "source": [
    "X=df.iloc[:,[1,2,3]].values\n",
    "y=df.iloc[:,-1].values\n",
    "le=LabelEncoder()\n",
    "X[:,0] = le.fit_transform(X[:,0])\n",
    "X_train, X_test, y_train, y_test = train_test_split(X, y, test_size = 0.20, random_state = 42)\n",
    "sc = StandardScaler()\n",
    "X_train = sc.fit_transform(X_train)\n",
    "X_test = sc.transform(X_test)"
   ]
  },
  {
   "cell_type": "code",
   "execution_count": 33,
   "metadata": {},
   "outputs": [
    {
     "data": {
      "text/plain": [
       "GaussianNB()"
      ]
     },
     "execution_count": 33,
     "metadata": {},
     "output_type": "execute_result"
    }
   ],
   "source": [
    "classifier = GaussianNB()\n",
    "classifier.fit(X_train, y_train)"
   ]
  },
  {
   "cell_type": "code",
   "execution_count": 34,
   "metadata": {},
   "outputs": [
    {
     "name": "stdout",
     "output_type": "stream",
     "text": [
      "Accuracy 0.9375\n"
     ]
    }
   ],
   "source": [
    "y_pred=classifier.predict(X_test)\n",
    "y_pred\n",
    "ac = accuracy_score(y_test,y_pred)\n",
    "print('Accuracy',ac)"
   ]
  },
  {
   "cell_type": "code",
   "execution_count": 35,
   "metadata": {},
   "outputs": [
    {
     "name": "stdout",
     "output_type": "stream",
     "text": [
      "(133, 13)\n",
      "(45,)\n"
     ]
    }
   ],
   "source": [
    "wine=datasets.load_wine()\n",
    "X=wine.data\n",
    "y=wine.target\n",
    "X_train, X_test, y_train, y_test = train_test_split(X, y, test_size=0.25)\n",
    "print(X_train.shape)\n",
    "print(y_test.shape)"
   ]
  },
  {
   "cell_type": "code",
   "execution_count": 36,
   "metadata": {},
   "outputs": [
    {
     "name": "stdout",
     "output_type": "stream",
     "text": [
      "Accuracy 0.8\n"
     ]
    }
   ],
   "source": [
    "bnb=naive_bayes.MultinomialNB()\n",
    "bnb.fit(X_train,y_train)\n",
    "y_pred=bnb.predict(X_test)\n",
    "ac = accuracy_score(y_test,y_pred)\n",
    "print('Accuracy',ac)"
   ]
  },
  {
   "cell_type": "markdown",
   "metadata": {},
   "source": [
    "## Therefore, the results are as follows for the 3 datasets :\n",
    "\n",
    "### Iris dataset - 0.933\n",
    "### Social Advertisements dataset - 0.937\n",
    "### Wine dataset - 0.8"
   ]
  }
 ],
 "metadata": {
  "interpreter": {
   "hash": "63fd5069d213b44bf678585dea6b12cceca9941eaf7f819626cde1f2670de90d"
  },
  "kernelspec": {
   "display_name": "Python 3.9.6 64-bit",
   "language": "python",
   "name": "python3"
  },
  "language_info": {
   "codemirror_mode": {
    "name": "ipython",
    "version": 3
   },
   "file_extension": ".py",
   "mimetype": "text/x-python",
   "name": "python",
   "nbconvert_exporter": "python",
   "pygments_lexer": "ipython3",
   "version": "3.9.6"
  },
  "orig_nbformat": 4
 },
 "nbformat": 4,
 "nbformat_minor": 2
}
